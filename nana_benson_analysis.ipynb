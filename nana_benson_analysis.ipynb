{
 "cells": [
  {
   "cell_type": "markdown",
   "metadata": {},
   "source": [
    "http://web.mta.info/developers/turnstile.html\n",
    "https://groups.google.com/forum/#!searchin/mtadeveloperresources/turnstile/mtadeveloperresources/tynsUKSJtjk/BIdNU_kdKnwJ\n",
    "\n",
    "C/A      = Control Area (A002)\n",
    "UNIT     = Remote Unit for a station (R051)\n",
    "SCP      = Subunit Channel Position represents an specific address for a device\n",
    "           (02-00-00)\n",
    "STATION  = Represents the station name the device is located at\n",
    "LINENAME = Represents all train lines that can be boarded at this station\n",
    "           Normally lines are represented by one character.\n",
    "           LINENAME 456NQR repersents train server for\n",
    "           4, 5, 6, N, Q, and R trains.\n",
    "\n",
    "DIVISION = Represents the Line originally the station belonged to BMT, IRT,\n",
    "           or IND\n",
    "DATE     = Represents the date (MM-DD-YY)\n",
    "TIME     = Represents the time (hh:mm:ss) for a scheduled audit event\n",
    "DESc     = Represent the \"REGULAR\" scheduled audit event\n",
    "           (Normally occurs every 4 hours)\n",
    "           1. Audits may occur more that 4 hours due to planning,\n",
    "           or troubleshooting activities.\n",
    "           2. Additionally, there may be a \"RECOVR AUD\" entry:\n",
    "           This refers to a missed audit that was recovered.\n",
    "\n",
    "ENTRIES  = The cumulative entry register value for a device\n",
    "EXIST    = The cumulative exit register value for a device"
   ]
  },
  {
   "cell_type": "code",
   "execution_count": 1,
   "metadata": {
    "collapsed": true
   },
   "outputs": [],
   "source": [
    "import pandas as pd\n",
    "\n",
    "def clean_data():\n",
    "\n",
    "    columns = ['control_area', 'unit', 'scp', 'station', 'line_name',\n",
    "               'division', 'date', 'time', 'desc', 'entries', 'exits']\n",
    "    data = pd.read_csv(\n",
    "        'http://web.mta.info/developers/data/nyct/turnstile/turnstile_170624.txt',\n",
    "        dtype={})\n",
    "    data.columns = columns\n",
    "    return data\n"
   ]
  },
  {
   "cell_type": "code",
   "execution_count": 2,
   "metadata": {
    "collapsed": true
   },
   "outputs": [],
   "source": [
    "df = clean_data()\n",
    "unique_stations = df.station.unique()\n",
    "recovery_audit = df[df.desc != 'REGULAR']\n",
    "turnstile_recovery = df[(df.control_area == 'R532H')\n",
    "                        & (df.station == 'METS-WILLETS PT')\n",
    "                        & (df.scp == '02-05-00')\n",
    "                        & (df.date == '06/19/2017')].sort_values(['time', 'scp'])"
   ]
  },
  {
   "cell_type": "code",
   "execution_count": 5,
   "metadata": {},
   "outputs": [
    {
     "name": "stdout",
     "output_type": "stream",
     "text": [
      "376 # unique stations\n"
     ]
    }
   ],
   "source": [
    "print('{} # unique stations'.format(unique_stations.size))"
   ]
  },
  {
   "cell_type": "code",
   "execution_count": null,
   "metadata": {
    "collapsed": true
   },
   "outputs": [],
   "source": [
    "df.iloc[0]"
   ]
  },
  {
   "cell_type": "code",
   "execution_count": 4,
   "metadata": {},
   "outputs": [
    {
     "data": {
      "text/html": [
       "<div>\n",
       "<style>\n",
       "    .dataframe thead tr:only-child th {\n",
       "        text-align: right;\n",
       "    }\n",
       "\n",
       "    .dataframe thead th {\n",
       "        text-align: left;\n",
       "    }\n",
       "\n",
       "    .dataframe tbody tr th {\n",
       "        vertical-align: top;\n",
       "    }\n",
       "</style>\n",
       "<table border=\"1\" class=\"dataframe\">\n",
       "  <thead>\n",
       "    <tr style=\"text-align: right;\">\n",
       "      <th></th>\n",
       "      <th>time</th>\n",
       "      <th>scp</th>\n",
       "      <th>entries</th>\n",
       "      <th>exits</th>\n",
       "      <th>desc</th>\n",
       "    </tr>\n",
       "  </thead>\n",
       "  <tbody>\n",
       "    <tr>\n",
       "      <th>183339</th>\n",
       "      <td>01:00:00</td>\n",
       "      <td>02-05-00</td>\n",
       "      <td>739</td>\n",
       "      <td>0</td>\n",
       "      <td>RECOVR AUD</td>\n",
       "    </tr>\n",
       "    <tr>\n",
       "      <th>183340</th>\n",
       "      <td>05:00:00</td>\n",
       "      <td>02-05-00</td>\n",
       "      <td>739</td>\n",
       "      <td>0</td>\n",
       "      <td>REGULAR</td>\n",
       "    </tr>\n",
       "    <tr>\n",
       "      <th>183341</th>\n",
       "      <td>09:00:00</td>\n",
       "      <td>02-05-00</td>\n",
       "      <td>739</td>\n",
       "      <td>0</td>\n",
       "      <td>REGULAR</td>\n",
       "    </tr>\n",
       "    <tr>\n",
       "      <th>183342</th>\n",
       "      <td>13:00:00</td>\n",
       "      <td>02-05-00</td>\n",
       "      <td>739</td>\n",
       "      <td>0</td>\n",
       "      <td>RECOVR AUD</td>\n",
       "    </tr>\n",
       "    <tr>\n",
       "      <th>183343</th>\n",
       "      <td>17:00:00</td>\n",
       "      <td>02-05-00</td>\n",
       "      <td>739</td>\n",
       "      <td>0</td>\n",
       "      <td>RECOVR AUD</td>\n",
       "    </tr>\n",
       "    <tr>\n",
       "      <th>183344</th>\n",
       "      <td>21:00:00</td>\n",
       "      <td>02-05-00</td>\n",
       "      <td>739</td>\n",
       "      <td>0</td>\n",
       "      <td>REGULAR</td>\n",
       "    </tr>\n",
       "  </tbody>\n",
       "</table>\n",
       "</div>"
      ],
      "text/plain": [
       "            time       scp  entries  exits        desc\n",
       "183339  01:00:00  02-05-00      739      0  RECOVR AUD\n",
       "183340  05:00:00  02-05-00      739      0     REGULAR\n",
       "183341  09:00:00  02-05-00      739      0     REGULAR\n",
       "183342  13:00:00  02-05-00      739      0  RECOVR AUD\n",
       "183343  17:00:00  02-05-00      739      0  RECOVR AUD\n",
       "183344  21:00:00  02-05-00      739      0     REGULAR"
      ]
     },
     "execution_count": 4,
     "metadata": {},
     "output_type": "execute_result"
    }
   ],
   "source": [
    "turnstile_recovery[\n",
    "        ['time', 'scp', 'entries', 'exits', 'desc']]"
   ]
  },
  {
   "cell_type": "code",
   "execution_count": 3,
   "metadata": {},
   "outputs": [
    {
     "name": "stdout",
     "output_type": "stream",
     "text": [
      "            time       scp  entries  exits        desc\n",
      "183339  01:00:00  02-05-00      739      0  RECOVR AUD\n",
      "183340  05:00:00  02-05-00      739      0     REGULAR\n",
      "183341  09:00:00  02-05-00      739      0     REGULAR\n",
      "183342  13:00:00  02-05-00      739      0  RECOVR AUD\n",
      "183343  17:00:00  02-05-00      739      0  RECOVR AUD\n",
      "183344  21:00:00  02-05-00      739      0     REGULAR\n",
      "376 # unique stations\n"
     ]
    }
   ],
   "source": [
    "# print(df.columns)\n",
    "# print('unique desc values: ', df.desc.unique())\n",
    "# print(recovery_audit.loc[182751])\n"
   ]
  }
 ],
 "metadata": {
  "kernelspec": {
   "display_name": "Python 3",
   "language": "python",
   "name": "python3"
  },
  "language_info": {
   "codemirror_mode": {
    "name": "ipython",
    "version": 3
   },
   "file_extension": ".py",
   "mimetype": "text/x-python",
   "name": "python",
   "nbconvert_exporter": "python",
   "pygments_lexer": "ipython3",
   "version": "3.5.3"
  }
 },
 "nbformat": 4,
 "nbformat_minor": 2
}
