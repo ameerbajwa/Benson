{
 "cells": [
  {
   "cell_type": "markdown",
   "metadata": {},
   "source": [
    "http://web.mta.info/developers/turnstile.html\n",
    "https://groups.google.com/forum/#!searchin/mtadeveloperresources/turnstile/mtadeveloperresources/tynsUKSJtjk/BIdNU_kdKnwJ\n",
    "\n",
    "C/A      = Control Area (A002)\n",
    "UNIT     = Remote Unit for a station (R051)\n",
    "SCP      = Subunit Channel Position represents an specific address for a device\n",
    "           (02-00-00)\n",
    "STATION  = Represents the station name the device is located at\n",
    "LINENAME = Represents all train lines that can be boarded at this station\n",
    "           Normally lines are represented by one character.\n",
    "           LINENAME 456NQR repersents train server for\n",
    "           4, 5, 6, N, Q, and R trains.\n",
    "\n",
    "DIVISION = Represents the Line originally the station belonged to BMT, IRT,\n",
    "           or IND\n",
    "DATE     = Represents the date (MM-DD-YY)\n",
    "TIME     = Represents the time (hh:mm:ss) for a scheduled audit event\n",
    "DESc     = Represent the \"REGULAR\" scheduled audit event\n",
    "           (Normally occurs every 4 hours)\n",
    "           1. Audits may occur more that 4 hours due to planning,\n",
    "           or troubleshooting activities.\n",
    "           2. Additionally, there may be a \"RECOVR AUD\" entry:\n",
    "           This refers to a missed audit that was recovered.\n",
    "\n",
    "ENTRIES  = The cumulative entry register value for a device\n",
    "EXIST    = The cumulative exit register value for a device"
   ]
  },
  {
   "cell_type": "code",
   "execution_count": 102,
   "metadata": {},
   "outputs": [],
   "source": [
    "import pandas as pd\n",
    "import dateutil.parser\n",
    "\n",
    "def date_year_week(date_str):\n",
    "    parsed_date = dateutil.parser.parse(date_str).isocalendar()\n",
    "    return '{}-{}'.format(parsed_date[0], parsed_date[1])\n",
    "    \n",
    "def calculate_entry_and_exit(list_date_entry_exit):\n",
    "    \"\"\"\n",
    "    each item in `list_date_entry` is another list [date, entry, exit]\n",
    "    \"\"\"\n",
    "    # first sort by entry ascending\n",
    "    list_date_entry_exit.sort(key=lambda x: x[1])\n",
    "    lowest_entry = list_date_entry_exit[0][1]\n",
    "    highest_entry = list_date_entry_exit[-1][1]\n",
    "    \n",
    "    # now sort by entry descending\n",
    "    list_date_entry_exit.sort(key=lambda x: x[1])\n",
    "    lowest_exit = list_date_entry_exit[0][2]\n",
    "    highest_exit = list_date_entry_exit[-1][2]\n",
    "    #print(list_date_entry)\n",
    "    total_traffic = (highest_entry - lowest_entry) + (highest_exit - lowest_exit)\n",
    "    return total_traffic\n",
    "\n",
    "# Calculate counts for each turnstile per week\n",
    "\n",
    "columns = ['control_area', 'unit', 'scp', 'station', 'line_name',\n",
    "            'division', 'date', 'time', 'desc', 'entries', 'exits']\n",
    "df = pd.read_csv(\n",
    "        'turnstile_170624.txt'\n",
    "       #'http://web.mta.info/developers/data/nyct/turnstile/turnstile_170624.txt'\n",
    ")\n",
    "df.columns = columns\n",
    "\n",
    "df = df[(df.station == '1 AV') | (df.station == '103 ST') \n",
    "        | (df.station == '103 ST-CORONA') \n",
    "        | (df.station == '104 ST') | (df.station == '110 ST')\n",
    "        | (df.station == '111 ST')\n",
    "        | (df.station == '116 ST')]\n",
    "\n",
    "df['value_date_entry_exit'] = df.apply(lambda row: [dateutil.parser.parse(row.date  + ' ' + row.time), row.entries, row.exits], axis=1)\n",
    "df['index_day'] = df.apply(lambda row: (row.control_area, row.unit, row.scp, row.station, dateutil.parser.parse(row.date)), axis=1)\n",
    "\n",
    "df_group_day = df.groupby('index_day')['value_date_entry_exit'].apply(list)\n"
   ]
  },
  {
   "cell_type": "code",
   "execution_count": 98,
   "metadata": {},
   "outputs": [],
   "source": [
    "# Currently a series, convert to a dataframe\n",
    "df_group_day = pd.DataFrame({'date_and_entries': df_group_day})\n",
    "df_group_day['entries_and_exits_total'] = df_group_day['date_and_entries'].map(calculate_entry_and_exit)\n"
   ]
  },
  {
   "cell_type": "code",
   "execution_count": 99,
   "metadata": {},
   "outputs": [],
   "source": [
    "df_group_day['station'] = df_group_day.apply(lambda row: row.name[3], axis=1)\n"
   ]
  },
  {
   "cell_type": "code",
   "execution_count": 100,
   "metadata": {},
   "outputs": [
    {
     "data": {
      "text/html": [
       "<div>\n",
       "<style>\n",
       "    .dataframe thead tr:only-child th {\n",
       "        text-align: right;\n",
       "    }\n",
       "\n",
       "    .dataframe thead th {\n",
       "        text-align: left;\n",
       "    }\n",
       "\n",
       "    .dataframe tbody tr th {\n",
       "        vertical-align: top;\n",
       "    }\n",
       "</style>\n",
       "<table border=\"1\" class=\"dataframe\">\n",
       "  <thead>\n",
       "    <tr style=\"text-align: right;\">\n",
       "      <th></th>\n",
       "      <th>entries_and_exits_total</th>\n",
       "    </tr>\n",
       "    <tr>\n",
       "      <th>station</th>\n",
       "      <th></th>\n",
       "    </tr>\n",
       "  </thead>\n",
       "  <tbody>\n",
       "    <tr>\n",
       "      <th>1 AV</th>\n",
       "      <td>1788365727</td>\n",
       "    </tr>\n",
       "    <tr>\n",
       "      <th>103 ST</th>\n",
       "      <td>295320</td>\n",
       "    </tr>\n",
       "    <tr>\n",
       "      <th>103 ST-CORONA</th>\n",
       "      <td>189833</td>\n",
       "    </tr>\n",
       "    <tr>\n",
       "      <th>104 ST</th>\n",
       "      <td>21469</td>\n",
       "    </tr>\n",
       "    <tr>\n",
       "      <th>110 ST</th>\n",
       "      <td>115375</td>\n",
       "    </tr>\n",
       "    <tr>\n",
       "      <th>111 ST</th>\n",
       "      <td>149063</td>\n",
       "    </tr>\n",
       "  </tbody>\n",
       "</table>\n",
       "</div>"
      ],
      "text/plain": [
       "               entries_and_exits_total\n",
       "station                               \n",
       "1 AV                        1788365727\n",
       "103 ST                          295320\n",
       "103 ST-CORONA                   189833\n",
       "104 ST                           21469\n",
       "110 ST                          115375\n",
       "111 ST                          149063"
      ]
     },
     "execution_count": 100,
     "metadata": {},
     "output_type": "execute_result"
    }
   ],
   "source": [
    "df_group_week_series = df_group_day.groupby('station').sum()\n",
    "# df_group_week_series = df_group_week_series.sort_values('station')\n",
    "df_group_week_series\n",
    "# 1621136548"
   ]
  },
  {
   "cell_type": "code",
   "execution_count": 101,
   "metadata": {},
   "outputs": [
    {
     "name": "stdout",
     "output_type": "stream",
     "text": [
      "167229179\n"
     ]
    }
   ],
   "source": []
  },
  {
   "cell_type": "code",
   "execution_count": null,
   "metadata": {
    "collapsed": true
   },
   "outputs": [],
   "source": []
  }
 ],
 "metadata": {
  "kernelspec": {
   "display_name": "Python 3",
   "language": "python",
   "name": "python3"
  },
  "language_info": {
   "codemirror_mode": {
    "name": "ipython",
    "version": 3
   },
   "file_extension": ".py",
   "mimetype": "text/x-python",
   "name": "python",
   "nbconvert_exporter": "python",
   "pygments_lexer": "ipython3",
   "version": "3.5.3"
  }
 },
 "nbformat": 4,
 "nbformat_minor": 2
}
