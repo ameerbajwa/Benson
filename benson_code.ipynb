{
 "cells": [
  {
   "cell_type": "code",
   "execution_count": 3,
   "metadata": {
    "collapsed": true
   },
   "outputs": [],
   "source": [
    "import pandas as pd\n",
    "import numpy as np\n",
    "import matplotlib.pyplot as plt\n",
    "\n",
    "from IPython.display import Image\n",
    "\n",
    "# enables inline plots, without it plots don't show up in the notebook\n",
    "%matplotlib inline"
   ]
  },
  {
   "cell_type": "code",
   "execution_count": 4,
   "metadata": {
    "collapsed": true
   },
   "outputs": [],
   "source": [
    "pd.set_option('display.max_columns', None)\n",
    "pd.set_option('display.max_rows', 25)\n",
    "pd.set_option('display.precision', 3)"
   ]
  },
  {
   "cell_type": "code",
   "execution_count": 21,
   "metadata": {
    "collapsed": false
   },
   "outputs": [],
   "source": [
    "df_31 = pd.read_csv('http://web.mta.info/developers/data/nyct/turnstile/turnstile_170107.txt')"
   ]
  },
  {
   "cell_type": "code",
   "execution_count": 40,
   "metadata": {
    "collapsed": false
   },
   "outputs": [
    {
     "name": "stdout",
     "output_type": "stream",
     "text": [
      "<class 'pandas.core.frame.DataFrame'>\n",
      "RangeIndex: 194774 entries, 0 to 194773\n",
      "Data columns (total 11 columns):\n",
      "C/A                                                                     194774 non-null object\n",
      "UNIT                                                                    194774 non-null object\n",
      "SCP                                                                     194774 non-null object\n",
      "STATION                                                                 194774 non-null object\n",
      "LINENAME                                                                194774 non-null object\n",
      "DIVISION                                                                194774 non-null object\n",
      "DATE                                                                    194774 non-null object\n",
      "TIME                                                                    194774 non-null object\n",
      "DESC                                                                    194774 non-null object\n",
      "ENTRIES                                                                 194774 non-null int64\n",
      "EXITS                                                                   194774 non-null int64\n",
      "dtypes: int64(2), object(9)\n",
      "memory usage: 16.3+ MB\n"
     ]
    }
   ],
   "source": [
    "df_31.info()"
   ]
  },
  {
   "cell_type": "code",
   "execution_count": 43,
   "metadata": {
    "collapsed": false
   },
   "outputs": [
    {
     "name": "stdout",
     "output_type": "stream",
     "text": [
      "12/31/2016\n"
     ]
    },
    {
     "data": {
      "text/html": [
       "<div>\n",
       "<table border=\"1\" class=\"dataframe\">\n",
       "  <thead>\n",
       "    <tr style=\"text-align: right;\">\n",
       "      <th></th>\n",
       "      <th>C/A</th>\n",
       "      <th>UNIT</th>\n",
       "      <th>SCP</th>\n",
       "      <th>STATION</th>\n",
       "      <th>LINENAME</th>\n",
       "      <th>DIVISION</th>\n",
       "      <th>DATE</th>\n",
       "      <th>TIME</th>\n",
       "      <th>DESC</th>\n",
       "      <th>ENTRIES</th>\n",
       "      <th>EXITS</th>\n",
       "    </tr>\n",
       "  </thead>\n",
       "  <tbody>\n",
       "    <tr>\n",
       "      <th>0</th>\n",
       "      <td>A002</td>\n",
       "      <td>R051</td>\n",
       "      <td>02-00-00</td>\n",
       "      <td>59 ST</td>\n",
       "      <td>NQR456W</td>\n",
       "      <td>BMT</td>\n",
       "      <td>12/31/2016</td>\n",
       "      <td>03:00:00</td>\n",
       "      <td>REGULAR</td>\n",
       "      <td>5991546</td>\n",
       "      <td>2028378</td>\n",
       "    </tr>\n",
       "    <tr>\n",
       "      <th>1</th>\n",
       "      <td>A002</td>\n",
       "      <td>R051</td>\n",
       "      <td>02-00-00</td>\n",
       "      <td>59 ST</td>\n",
       "      <td>NQR456W</td>\n",
       "      <td>BMT</td>\n",
       "      <td>12/31/2016</td>\n",
       "      <td>07:00:00</td>\n",
       "      <td>REGULAR</td>\n",
       "      <td>5991565</td>\n",
       "      <td>2028389</td>\n",
       "    </tr>\n",
       "    <tr>\n",
       "      <th>2</th>\n",
       "      <td>A002</td>\n",
       "      <td>R051</td>\n",
       "      <td>02-00-00</td>\n",
       "      <td>59 ST</td>\n",
       "      <td>NQR456W</td>\n",
       "      <td>BMT</td>\n",
       "      <td>12/31/2016</td>\n",
       "      <td>11:00:00</td>\n",
       "      <td>REGULAR</td>\n",
       "      <td>5991644</td>\n",
       "      <td>2028441</td>\n",
       "    </tr>\n",
       "    <tr>\n",
       "      <th>3</th>\n",
       "      <td>A002</td>\n",
       "      <td>R051</td>\n",
       "      <td>02-00-00</td>\n",
       "      <td>59 ST</td>\n",
       "      <td>NQR456W</td>\n",
       "      <td>BMT</td>\n",
       "      <td>12/31/2016</td>\n",
       "      <td>15:00:00</td>\n",
       "      <td>REGULAR</td>\n",
       "      <td>5991971</td>\n",
       "      <td>2028502</td>\n",
       "    </tr>\n",
       "    <tr>\n",
       "      <th>4</th>\n",
       "      <td>A002</td>\n",
       "      <td>R051</td>\n",
       "      <td>02-00-00</td>\n",
       "      <td>59 ST</td>\n",
       "      <td>NQR456W</td>\n",
       "      <td>BMT</td>\n",
       "      <td>12/31/2016</td>\n",
       "      <td>19:00:00</td>\n",
       "      <td>REGULAR</td>\n",
       "      <td>5992418</td>\n",
       "      <td>2028543</td>\n",
       "    </tr>\n",
       "  </tbody>\n",
       "</table>\n",
       "</div>"
      ],
      "text/plain": [
       "    C/A  UNIT       SCP STATION LINENAME DIVISION        DATE      TIME  \\\n",
       "0  A002  R051  02-00-00   59 ST  NQR456W      BMT  12/31/2016  03:00:00   \n",
       "1  A002  R051  02-00-00   59 ST  NQR456W      BMT  12/31/2016  07:00:00   \n",
       "2  A002  R051  02-00-00   59 ST  NQR456W      BMT  12/31/2016  11:00:00   \n",
       "3  A002  R051  02-00-00   59 ST  NQR456W      BMT  12/31/2016  15:00:00   \n",
       "4  A002  R051  02-00-00   59 ST  NQR456W      BMT  12/31/2016  19:00:00   \n",
       "\n",
       "      DESC  ENTRIES  \\\n",
       "0  REGULAR  5991546   \n",
       "1  REGULAR  5991565   \n",
       "2  REGULAR  5991644   \n",
       "3  REGULAR  5991971   \n",
       "4  REGULAR  5992418   \n",
       "\n",
       "   EXITS                                                                 \n",
       "0                                            2028378                     \n",
       "1                                            2028389                     \n",
       "2                                            2028441                     \n",
       "3                                            2028502                     \n",
       "4                                            2028543                     "
      ]
     },
     "execution_count": 43,
     "metadata": {},
     "output_type": "execute_result"
    }
   ],
   "source": [
    "print(df_31.loc[0,'DATE'])\n",
    "df_31.head()"
   ]
  },
  {
   "cell_type": "code",
   "execution_count": 46,
   "metadata": {
    "collapsed": false
   },
   "outputs": [
    {
     "data": {
      "text/html": [
       "<div>\n",
       "<table border=\"1\" class=\"dataframe\">\n",
       "  <thead>\n",
       "    <tr style=\"text-align: right;\">\n",
       "      <th></th>\n",
       "      <th>SCP</th>\n",
       "      <th>ENTRIES</th>\n",
       "    </tr>\n",
       "  </thead>\n",
       "  <tbody>\n",
       "    <tr>\n",
       "      <th>2646</th>\n",
       "      <td>01-00-00</td>\n",
       "      <td>6326041</td>\n",
       "    </tr>\n",
       "    <tr>\n",
       "      <th>2690</th>\n",
       "      <td>01-00-01</td>\n",
       "      <td>1588406</td>\n",
       "    </tr>\n",
       "    <tr>\n",
       "      <th>2734</th>\n",
       "      <td>01-00-02</td>\n",
       "      <td>1076899</td>\n",
       "    </tr>\n",
       "    <tr>\n",
       "      <th>2778</th>\n",
       "      <td>01-00-03</td>\n",
       "      <td>1297170</td>\n",
       "    </tr>\n",
       "    <tr>\n",
       "      <th>2822</th>\n",
       "      <td>01-00-04</td>\n",
       "      <td>1278997</td>\n",
       "    </tr>\n",
       "    <tr>\n",
       "      <th>2866</th>\n",
       "      <td>01-00-05</td>\n",
       "      <td>966101</td>\n",
       "    </tr>\n",
       "    <tr>\n",
       "      <th>2910</th>\n",
       "      <td>01-00-06</td>\n",
       "      <td>984489</td>\n",
       "    </tr>\n",
       "    <tr>\n",
       "      <th>2954</th>\n",
       "      <td>01-00-07</td>\n",
       "      <td>1210050</td>\n",
       "    </tr>\n",
       "    <tr>\n",
       "      <th>128893</th>\n",
       "      <td>02-00-00</td>\n",
       "      <td>1331503</td>\n",
       "    </tr>\n",
       "    <tr>\n",
       "      <th>128935</th>\n",
       "      <td>02-00-01</td>\n",
       "      <td>279294</td>\n",
       "    </tr>\n",
       "    <tr>\n",
       "      <th>128977</th>\n",
       "      <td>02-00-02</td>\n",
       "      <td>3522602</td>\n",
       "    </tr>\n",
       "    <tr>\n",
       "      <th>129019</th>\n",
       "      <td>02-00-03</td>\n",
       "      <td>871517</td>\n",
       "    </tr>\n",
       "    <tr>\n",
       "      <th>...</th>\n",
       "      <td>...</td>\n",
       "      <td>...</td>\n",
       "    </tr>\n",
       "    <tr>\n",
       "      <th>130153</th>\n",
       "      <td>01-03-03</td>\n",
       "      <td>2678321</td>\n",
       "    </tr>\n",
       "    <tr>\n",
       "      <th>130195</th>\n",
       "      <td>01-06-00</td>\n",
       "      <td>50434358</td>\n",
       "    </tr>\n",
       "    <tr>\n",
       "      <th>130237</th>\n",
       "      <td>01-06-01</td>\n",
       "      <td>208898</td>\n",
       "    </tr>\n",
       "    <tr>\n",
       "      <th>130279</th>\n",
       "      <td>00-00-00</td>\n",
       "      <td>1192435</td>\n",
       "    </tr>\n",
       "    <tr>\n",
       "      <th>130321</th>\n",
       "      <td>00-00-01</td>\n",
       "      <td>1714431335</td>\n",
       "    </tr>\n",
       "    <tr>\n",
       "      <th>130363</th>\n",
       "      <td>00-00-02</td>\n",
       "      <td>7533981</td>\n",
       "    </tr>\n",
       "    <tr>\n",
       "      <th>130405</th>\n",
       "      <td>00-00-03</td>\n",
       "      <td>4727769</td>\n",
       "    </tr>\n",
       "    <tr>\n",
       "      <th>130447</th>\n",
       "      <td>00-00-04</td>\n",
       "      <td>14394863</td>\n",
       "    </tr>\n",
       "    <tr>\n",
       "      <th>130489</th>\n",
       "      <td>00-00-05</td>\n",
       "      <td>35063204</td>\n",
       "    </tr>\n",
       "    <tr>\n",
       "      <th>130531</th>\n",
       "      <td>00-00-06</td>\n",
       "      <td>6126219</td>\n",
       "    </tr>\n",
       "    <tr>\n",
       "      <th>130573</th>\n",
       "      <td>00-00-07</td>\n",
       "      <td>18456754</td>\n",
       "    </tr>\n",
       "    <tr>\n",
       "      <th>130615</th>\n",
       "      <td>00-00-08</td>\n",
       "      <td>5208844</td>\n",
       "    </tr>\n",
       "  </tbody>\n",
       "</table>\n",
       "<p>50 rows × 2 columns</p>\n",
       "</div>"
      ],
      "text/plain": [
       "             SCP     ENTRIES\n",
       "2646    01-00-00     6326041\n",
       "2690    01-00-01     1588406\n",
       "2734    01-00-02     1076899\n",
       "2778    01-00-03     1297170\n",
       "2822    01-00-04     1278997\n",
       "2866    01-00-05      966101\n",
       "2910    01-00-06      984489\n",
       "2954    01-00-07     1210050\n",
       "128893  02-00-00     1331503\n",
       "128935  02-00-01      279294\n",
       "128977  02-00-02     3522602\n",
       "129019  02-00-03      871517\n",
       "...          ...         ...\n",
       "130153  01-03-03     2678321\n",
       "130195  01-06-00    50434358\n",
       "130237  01-06-01      208898\n",
       "130279  00-00-00     1192435\n",
       "130321  00-00-01  1714431335\n",
       "130363  00-00-02     7533981\n",
       "130405  00-00-03     4727769\n",
       "130447  00-00-04    14394863\n",
       "130489  00-00-05    35063204\n",
       "130531  00-00-06     6126219\n",
       "130573  00-00-07    18456754\n",
       "130615  00-00-08     5208844\n",
       "\n",
       "[50 rows x 2 columns]"
      ]
     },
     "execution_count": 46,
     "metadata": {},
     "output_type": "execute_result"
    }
   ],
   "source": [
    "df_31.loc[df_31.STATION=='TIMES SQ-42 ST', :]\n",
    "pop_31=df_31.loc[(df_31.STATION=='TIMES SQ-42 ST') & (df_31.DATE=='12/31/2016')  & (df_31.TIME=='03:00:00'),['SCP','ENTRIES']]\n",
    "\n",
    "\n",
    "\n",
    "\n",
    "\n",
    "\n"
   ]
  },
  {
   "cell_type": "code",
   "execution_count": 47,
   "metadata": {
    "collapsed": false
   },
   "outputs": [
    {
     "name": "stdout",
     "output_type": "stream",
     "text": [
      "             SCP     ENTRIES\n",
      "2657    01-00-00     6327626\n",
      "2701    01-00-01     1589309\n",
      "2745    01-00-02     1077469\n",
      "2789    01-00-03     1297620\n",
      "2833    01-00-04     1279320\n",
      "2877    01-00-05      966468\n",
      "2921    01-00-06      984960\n",
      "2965    01-00-07     1210808\n",
      "128904  02-00-00     1332399\n",
      "128946  02-00-01      279982\n",
      "128988  02-00-02     3523143\n",
      "129030  02-00-03      871962\n",
      "...          ...         ...\n",
      "130164  01-03-03     2678995\n",
      "130206  01-06-00    50436924\n",
      "130248  01-06-01      210873\n",
      "130290  00-00-00     1192654\n",
      "130332  00-00-01  1714437189\n",
      "130374  00-00-02     7537571\n",
      "130416  00-00-03     4730915\n",
      "130458  00-00-04    14397704\n",
      "130500  00-00-05    35066240\n",
      "130542  00-00-06     6128947\n",
      "130584  00-00-07    18459372\n",
      "130626  00-00-08     5211937\n",
      "\n",
      "[50 rows x 2 columns]\n"
     ]
    }
   ],
   "source": [
    "pop_1=df_31.loc[(df_31.STATION=='TIMES SQ-42 ST') & (df_31.DATE=='01/01/2017') & (df_31.TIME=='23:00:00'),['SCP','ENTRIES']]\n",
    "print(pop_1)"
   ]
  },
  {
   "cell_type": "code",
   "execution_count": 49,
   "metadata": {
    "collapsed": false
   },
   "outputs": [
    {
     "data": {
      "text/plain": [
       "71838"
      ]
     },
     "execution_count": 49,
     "metadata": {},
     "output_type": "execute_result"
    }
   ],
   "source": [
    "pop_1.ENTRIES.sum()-pop_31.ENTRIES.sum()"
   ]
  },
  {
   "cell_type": "code",
   "execution_count": 69,
   "metadata": {
    "collapsed": true
   },
   "outputs": [],
   "source": [
    "df_0121 = pd.read_csv('http://web.mta.info/developers/data/nyct/turnstile/turnstile_170204.txt')\n"
   ]
  },
  {
   "cell_type": "code",
   "execution_count": 72,
   "metadata": {
    "collapsed": false
   },
   "outputs": [
    {
     "data": {
      "text/plain": [
       "97549"
      ]
     },
     "execution_count": 72,
     "metadata": {},
     "output_type": "execute_result"
    }
   ],
   "source": [
    "pop_28=df_0121.loc[(df_0121.STATION=='TIMES SQ-42 ST') & (df_0121.DATE=='01/28/2017')  & (df_0121.TIME=='03:00:00'),['SCP','ENTRIES']]\n",
    "pop_29=df_0121.loc[(df_0121.STATION=='TIMES SQ-42 ST') & (df_0121.DATE=='01/29/2017') & (df_0121.TIME=='23:00:00'),['SCP','ENTRIES']]\n",
    "pop_29.ENTRIES.sum()-pop_28.ENTRIES.sum()"
   ]
  },
  {
   "cell_type": "code",
   "execution_count": 66,
   "metadata": {
    "collapsed": false
   },
   "outputs": [
    {
     "name": "stdout",
     "output_type": "stream",
     "text": [
      "Empty DataFrame\n",
      "Columns: [SCP, ENTRIES]\n",
      "Index: []\n"
     ]
    },
    {
     "data": {
      "text/html": [
       "<div>\n",
       "<table border=\"1\" class=\"dataframe\">\n",
       "  <thead>\n",
       "    <tr style=\"text-align: right;\">\n",
       "      <th></th>\n",
       "      <th>C/A</th>\n",
       "      <th>UNIT</th>\n",
       "      <th>SCP</th>\n",
       "      <th>STATION</th>\n",
       "      <th>LINENAME</th>\n",
       "      <th>DIVISION</th>\n",
       "      <th>DATE</th>\n",
       "      <th>TIME</th>\n",
       "      <th>DESC</th>\n",
       "      <th>ENTRIES</th>\n",
       "      <th>EXITS</th>\n",
       "    </tr>\n",
       "  </thead>\n",
       "  <tbody>\n",
       "    <tr>\n",
       "      <th>0</th>\n",
       "      <td>A002</td>\n",
       "      <td>R051</td>\n",
       "      <td>02-00-00</td>\n",
       "      <td>59 ST</td>\n",
       "      <td>NQR456W</td>\n",
       "      <td>BMT</td>\n",
       "      <td>01/14/2017</td>\n",
       "      <td>03:00:00</td>\n",
       "      <td>REGULAR</td>\n",
       "      <td>6009241</td>\n",
       "      <td>2035096</td>\n",
       "    </tr>\n",
       "    <tr>\n",
       "      <th>1</th>\n",
       "      <td>A002</td>\n",
       "      <td>R051</td>\n",
       "      <td>02-00-00</td>\n",
       "      <td>59 ST</td>\n",
       "      <td>NQR456W</td>\n",
       "      <td>BMT</td>\n",
       "      <td>01/14/2017</td>\n",
       "      <td>07:00:00</td>\n",
       "      <td>REGULAR</td>\n",
       "      <td>6009253</td>\n",
       "      <td>2035115</td>\n",
       "    </tr>\n",
       "    <tr>\n",
       "      <th>2</th>\n",
       "      <td>A002</td>\n",
       "      <td>R051</td>\n",
       "      <td>02-00-00</td>\n",
       "      <td>59 ST</td>\n",
       "      <td>NQR456W</td>\n",
       "      <td>BMT</td>\n",
       "      <td>01/14/2017</td>\n",
       "      <td>11:00:00</td>\n",
       "      <td>REGULAR</td>\n",
       "      <td>6009313</td>\n",
       "      <td>2035217</td>\n",
       "    </tr>\n",
       "    <tr>\n",
       "      <th>3</th>\n",
       "      <td>A002</td>\n",
       "      <td>R051</td>\n",
       "      <td>02-00-00</td>\n",
       "      <td>59 ST</td>\n",
       "      <td>NQR456W</td>\n",
       "      <td>BMT</td>\n",
       "      <td>01/14/2017</td>\n",
       "      <td>15:00:00</td>\n",
       "      <td>REGULAR</td>\n",
       "      <td>6009492</td>\n",
       "      <td>2035273</td>\n",
       "    </tr>\n",
       "    <tr>\n",
       "      <th>4</th>\n",
       "      <td>A002</td>\n",
       "      <td>R051</td>\n",
       "      <td>02-00-00</td>\n",
       "      <td>59 ST</td>\n",
       "      <td>NQR456W</td>\n",
       "      <td>BMT</td>\n",
       "      <td>01/14/2017</td>\n",
       "      <td>19:00:00</td>\n",
       "      <td>REGULAR</td>\n",
       "      <td>6009814</td>\n",
       "      <td>2035351</td>\n",
       "    </tr>\n",
       "  </tbody>\n",
       "</table>\n",
       "</div>"
      ],
      "text/plain": [
       "    C/A  UNIT       SCP STATION LINENAME DIVISION        DATE      TIME  \\\n",
       "0  A002  R051  02-00-00   59 ST  NQR456W      BMT  01/14/2017  03:00:00   \n",
       "1  A002  R051  02-00-00   59 ST  NQR456W      BMT  01/14/2017  07:00:00   \n",
       "2  A002  R051  02-00-00   59 ST  NQR456W      BMT  01/14/2017  11:00:00   \n",
       "3  A002  R051  02-00-00   59 ST  NQR456W      BMT  01/14/2017  15:00:00   \n",
       "4  A002  R051  02-00-00   59 ST  NQR456W      BMT  01/14/2017  19:00:00   \n",
       "\n",
       "      DESC  ENTRIES  \\\n",
       "0  REGULAR  6009241   \n",
       "1  REGULAR  6009253   \n",
       "2  REGULAR  6009313   \n",
       "3  REGULAR  6009492   \n",
       "4  REGULAR  6009814   \n",
       "\n",
       "   EXITS                                                                 \n",
       "0                                            2035096                     \n",
       "1                                            2035115                     \n",
       "2                                            2035217                     \n",
       "3                                            2035273                     \n",
       "4                                            2035351                     "
      ]
     },
     "execution_count": 66,
     "metadata": {},
     "output_type": "execute_result"
    }
   ],
   "source": [
    "\n"
   ]
  }
 ],
 "metadata": {
  "kernelspec": {
   "display_name": "Python 3",
   "language": "python",
   "name": "python3"
  },
  "language_info": {
   "codemirror_mode": {
    "name": "ipython",
    "version": 3
   },
   "file_extension": ".py",
   "mimetype": "text/x-python",
   "name": "python",
   "nbconvert_exporter": "python",
   "pygments_lexer": "ipython3",
   "version": "3.6.0"
  }
 },
 "nbformat": 4,
 "nbformat_minor": 2
}
