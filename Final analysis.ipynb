{
 "cells": [
  {
   "cell_type": "code",
   "execution_count": 7,
   "metadata": {},
   "outputs": [],
   "source": [
    "import urllib2\n",
    "import dateutil.parser\n",
    "import datetime\n",
    "\n",
    "def download(date_extension):\n",
    "    url= 'http://web.mta.info/developers/data/nyct/turnstile/turnstile_' + date_extension +'.txt'\n",
    "    print(url)\n",
    "    response = urllib2.urlopen(url)\n",
    "    data = response.read()\n",
    "\n",
    "    filename = 'data/' + date_extension + \".txt\"\n",
    "    file_ = open(filename, 'w')\n",
    "    file_.write(data)\n",
    "    file_.close()\n",
    "\n",
    "\n",
    "def calculate_dates(start, end):\n",
    "    temp = []\n",
    "    delta = datetime.timedelta(days=7)\n",
    "    y1, m1, d1 = [int(x) for x in start.strip().split(\"-\")]\n",
    "    y2, m2, d2 = [int(y) for y in end.strip().split(\"-\")]\n",
    "    sDate = datetime.datetime(y1, m1, d1)\n",
    "    eDate = datetime.datetime(y2, m2, d2)\n",
    "    d = sDate\n",
    "    while d <= eDate:\n",
    "        # d.strftime(\"%y%m%d\")\n",
    "        temp.append(d)\n",
    "        d += delta\n",
    "        \n",
    "    return temp\n",
    "\n",
    "\n",
    "#for i in datesList:\n",
    "#    download(i)\n",
    "\n",
    "\n",
    "#download('161231')"
   ]
  },
  {
   "cell_type": "code",
   "execution_count": null,
   "metadata": {
    "collapsed": true
   },
   "outputs": [],
   "source": [
    "import pandas as pd\n",
    "import numpy as np\n",
    "import matplotlib.pyplot as plt\n",
    "\n",
    "from IPython.display import Image\n",
    "pd.set_option('display.max_columns', None)\n",
    "pd.set_option('display.max_rows', 25)\n",
    "pd.set_option('display.precision', 3)\n",
    "# enables inline plots, without it plots don't show up in the notebook\n",
    "%matplotlib inline\n",
    "\n",
    "\n",
    "def calculate_total_week(date, cumulative_df):\n",
    "    \n",
    "    date_extension = date.strftime(\"%y%m%d\")\n",
    "    filename = 'data/' + date_extension + '.txt'\n",
    "    df1 = pd.read_csv(filename)\n",
    "\n",
    "    df1.columns = df1.columns.str.strip()\n",
    "    #subsetting the stations we want\n",
    "    df=df1[(df1.STATION=='TIMES SQ-42 ST')| (df1.STATION=='FLUSHING-MAIN' )| (df1.STATION=='ATL AV-BARCLAY')]\n",
    "    \n",
    "    #start of analysis for weekly counts##\n",
    "    station_date=df.groupby(['C/A','UNIT','SCP','STATION','DATE'])\n",
    "    entry_date_count=station_date.ENTRIES.apply(lambda x: x.max() - x.min())\n",
    "    entry_date_count=entry_date_count.reset_index()\n",
    "\n",
    "\n",
    "    exit_date_count=station_date.EXITS.apply(lambda x: x.max() - x.min())\n",
    "    exit_date_count=exit_date_count.reset_index()\n",
    "\n",
    "\n",
    "\n",
    "    #group all entries by station#\n",
    "    station_entry_week_count=entry_date_count.groupby('STATION').ENTRIES.agg(['sum'])\n",
    "\n",
    "    station_exit_week_count=exit_date_count.groupby('STATION').EXITS.agg(['sum'])\n",
    "\n",
    "\n",
    "    #total counts\n",
    "    station_entry_week_count['exit sum']=station_exit_week_count['sum']\n",
    "    station_entry_week_count['total']=station_entry_week_count['exit sum']+station_entry_week_count['sum']\n",
    "    station_entry_week_count['year_week']=date\n",
    "    station_entry_week_count= station_entry_week_count.reset_index()\n",
    "   \n",
    "    cumulative_df = cumulative_df.append(station_entry_week_count.iloc[:])\n",
    "    return cumulative_df\n",
    "\n",
    "datesList = calculate_dates('2016-06-25', '2017-06-24')\n",
    "final_week_count=pd.DataFrame()\n",
    "for d in datesList:\n",
    "    final_week_count = calculate_total_week(d, final_week_count)\n",
    "    \n",
    "    #changing the dates to datetime for plotting\n",
    "''' \n",
    "dates=[]\n",
    "for i in range(0,len(entry_date_count)):\n",
    "    dates.append(dateutil.parser.parse(entry_date_count.iloc[i,4]))\n",
    "entry_date_count['DATE_NEW']=dates\n",
    "'''"
   ]
  },
  {
   "cell_type": "code",
   "execution_count": 25,
   "metadata": {},
   "outputs": [],
   "source": [
    "final_week_count.to_csv(r'final_results.txt', header=True, sep=',')"
   ]
  },
  {
   "cell_type": "code",
   "execution_count": 24,
   "metadata": {},
   "outputs": [
    {
     "data": {
      "text/plain": [
       "[<matplotlib.lines.Line2D at 0x1171f36d0>]"
      ]
     },
     "execution_count": 24,
     "metadata": {},
     "output_type": "execute_result"
    },
    {
     "data": {
      "image/png": "[encoded data removed]",
      "text/plain": [
       "<matplotlib.figure.Figure at 0x1172d5d90>"
      ]
     },
     "metadata": {},
     "output_type": "display_data"
    }
   ],
   "source": [
    "\n",
    "\n",
    "bp = final_week_count.groupby('STATION')\n",
    "total = final_week_count['total']\n",
    "\n",
    "atl_station = final_week_count[final_week_count.STATION == 'ATL AV-BARCLAY']\n",
    "flushing_station = final_week_count[final_week_count.STATION == 'FLUSHING-MAIN']\n",
    "times_station = final_week_count[final_week_count.STATION == 'TIMES SQ-42 ST']\n",
    "\n",
    "\n",
    "#plt.ylim(ymax=np.percentile(final_week_count.total))\n",
    "#final_outout = final_week_count.groupby('STATION')\n",
    "plt.plot(atl_station.year_week, atl_station.total)\n",
    "plt.plot(flushing_station.year_week, flushing_station.total)\n",
    "plt.plot(times_station.year_week, times_station.total)\n",
    "\n",
    "#np.percentile(final_week_count.total, 99)\n"
   ]
  },
  {
   "cell_type": "code",
   "execution_count": null,
   "metadata": {},
   "outputs": [],
   "source": [
    "np.percentile(final_week_count.total, 99)"
   ]
  },
  {
   "cell_type": "code",
   "execution_count": null,
   "metadata": {
    "collapsed": true
   },
   "outputs": [],
   "source": []
  }
 ],
 "metadata": {
  "kernelspec": {
   "display_name": "Python 2",
   "language": "python",
   "name": "python2"
  },
  "language_info": {
   "codemirror_mode": {
    "name": "ipython",
    "version": 2
   },
   "file_extension": ".py",
   "mimetype": "text/x-python",
   "name": "python",
   "nbconvert_exporter": "python",
   "pygments_lexer": "ipython2",
   "version": "2.7.13"
  }
 },
 "nbformat": 4,
 "nbformat_minor": 2
}
