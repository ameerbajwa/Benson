{
 "cells": [
  {
   "cell_type": "code",
   "execution_count": 1,
   "metadata": {
    "collapsed": true
   },
   "outputs": [],
   "source": [
    "import pandas as pd\n",
    "import numpy as np\n",
    "import matplotlib.pyplot as plt\n",
    "\n",
    "from IPython.display import Image\n",
    "\n",
    "# enables inline plots, without it plots don't show up in the notebook\n",
    "%matplotlib inline\n",
    "\n",
    "def calculate_total_week(date):\n",
    "    pd.set_option('display.max_columns', None)\n",
    "    pd.set_option('display.max_rows', 25)\n",
    "    pd.set_option('display.precision', 3)\n",
    "    date_extension = # do somecalc to get 170624 from date\n",
    "    df1 = pd.read_csv('http://web.mta.info/developers/data/nyct/turnstile/turnstile_' + str(date_extension) +'.txt')\n",
    "\n",
    "    #the name of the exit column is weird\n",
    "    df1.rename(columns={'EXITS                                                               ': 'EXITS'}, inplace=True)\n",
    "    #subsetting the stations we want\n",
    "    df=df1[(df1.STATION=='TIMES SQ-42 ST')| (df1.STATION=='FLUSHING-MAIN' )| (df1.STATION=='ATL AV-BARCLAY')]\n",
    "\n",
    "    #start of analysis for weekly counts##\n",
    "    station_date=df.groupby(['C/A','UNIT','SCP','STATION','DATE'])\n",
    "    entry_date_count=station_date.ENTRIES.apply(lambda x: x.max() - x.min())\n",
    "    entry_date_count=entry_date_count.reset_index()\n",
    "\n",
    "\n",
    "    exit_date_count=station_date.EXITS.apply(lambda x: x.max() - x.min())\n",
    "    exit_date_count=exit_date_count.reset_index()\n",
    "\n",
    "\n",
    "\n",
    "    #changing the dates to datetime for plotting\n",
    "    import matplotlib.pyplot as plt\n",
    "    import dateutil.parser\n",
    "    dates=[]\n",
    "    for i in range(0,len(entry_date_count)):\n",
    "        dates.append(dateutil.parser.parse(entry_date_count.iloc[i,4]))\n",
    "    entry_date_count['DATE_NEW']=dates\n",
    "\n",
    "\n",
    "\n",
    "    #group all entries by station#\n",
    "    station_entry_week_count=entry_date_count.groupby('STATION').ENTRIES.agg(['sum'])\n",
    "\n",
    "    station_exit_week_count=exit_date_count.groupby('STATION').EXITS.agg(['sum'])\n",
    "\n",
    "\n",
    "    #total counts\n",
    "    station_entry_week_count['exit sum']=station_exit_week_count['sum']\n",
    "    station_entry_week_count['total']=station_entry_week_count['exit sum']+station_entry_week_count['sum']\n",
    "\n"
   ]
  },
  {
   "cell_type": "code",
   "execution_count": 2,
   "metadata": {
    "collapsed": false
   },
   "outputs": [
    {
     "data": {
      "text/html": [
       "<div>\n",
       "<table border=\"1\" class=\"dataframe\">\n",
       "  <thead>\n",
       "    <tr style=\"text-align: right;\">\n",
       "      <th></th>\n",
       "      <th>sum</th>\n",
       "      <th>exit sum</th>\n",
       "      <th>total</th>\n",
       "    </tr>\n",
       "    <tr>\n",
       "      <th>STATION</th>\n",
       "      <th></th>\n",
       "      <th></th>\n",
       "      <th></th>\n",
       "    </tr>\n",
       "  </thead>\n",
       "  <tbody>\n",
       "    <tr>\n",
       "      <th>ATL AV-BARCLAY</th>\n",
       "      <td>231072</td>\n",
       "      <td>223384</td>\n",
       "      <td>454456</td>\n",
       "    </tr>\n",
       "    <tr>\n",
       "      <th>FLUSHING-MAIN</th>\n",
       "      <td>330041</td>\n",
       "      <td>236095</td>\n",
       "      <td>566136</td>\n",
       "    </tr>\n",
       "    <tr>\n",
       "      <th>TIMES SQ-42 ST</th>\n",
       "      <td>5969841</td>\n",
       "      <td>1681811</td>\n",
       "      <td>7651652</td>\n",
       "    </tr>\n",
       "  </tbody>\n",
       "</table>\n",
       "</div>"
      ],
      "text/plain": [
       "                    sum  exit sum    total\n",
       "STATION                                   \n",
       "ATL AV-BARCLAY   231072    223384   454456\n",
       "FLUSHING-MAIN    330041    236095   566136\n",
       "TIMES SQ-42 ST  5969841   1681811  7651652"
      ]
     },
     "execution_count": 2,
     "metadata": {},
     "output_type": "execute_result"
    }
   ],
   "source": [
    "station_entry_week_count"
   ]
  },
  {
   "cell_type": "code",
   "execution_count": null,
   "metadata": {
    "collapsed": true
   },
   "outputs": [],
   "source": []
  }
 ],
 "metadata": {
  "kernelspec": {
   "display_name": "Python 3",
   "language": "python",
   "name": "python3"
  },
  "language_info": {
   "codemirror_mode": {
    "name": "ipython",
    "version": 3
   },
   "file_extension": ".py",
   "mimetype": "text/x-python",
   "name": "python",
   "nbconvert_exporter": "python",
   "pygments_lexer": "ipython3",
   "version": "3.6.0"
  }
 },
 "nbformat": 4,
 "nbformat_minor": 2
}
