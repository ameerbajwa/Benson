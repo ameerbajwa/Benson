{
 "cells": [
  {
   "cell_type": "code",
   "execution_count": 39,
   "metadata": {},
   "outputs": [],
   "source": [
    "from urllib.request import urlopen\n",
    "import dateutil.parser\n",
    "import datetime\n",
    "import pandas as pd\n",
    "import numpy as np\n",
    "import matplotlib.pyplot as plt\n",
    "from IPython.display import Image\n",
    "\n",
    "pd.set_option('display.max_columns', None)\n",
    "pd.set_option('display.max_rows', 25)\n",
    "pd.set_option('display.precision', 3)\n",
    "\n",
    "# enables inline plots, without it plots don't show up in the notebook\n",
    "%matplotlib inline\n",
    "\n",
    "def download(date_extension):\n",
    "    url= 'http://web.mta.info/developers/data/nyct/turnstile/turnstile_' + date_extension +'.txt'\n",
    "    print(url)\n",
    "    response = urlopen(url)\n",
    "    data = response.read()\n",
    "\n",
    "    filename = 'data/' + date_extension + \".txt\"\n",
    "    file_ = open(filename, 'wb')\n",
    "    file_.write(data)\n",
    "    file_.close()\n",
    "\n",
    "\n",
    "def calculate_dates(start, end):\n",
    "    temp = []\n",
    "    delta = datetime.timedelta(days=7)\n",
    "    y1, m1, d1 = [int(x) for x in start.strip().split(\"-\")]\n",
    "    y2, m2, d2 = [int(y) for y in end.strip().split(\"-\")]\n",
    "    sDate = datetime.datetime(y1, m1, d1)\n",
    "    eDate = datetime.datetime(y2, m2, d2)\n",
    "    d = sDate\n",
    "    while d <= eDate:\n",
    "        temp.append(d)\n",
    "        d += delta\n",
    "        \n",
    "    return temp\n",
    "\n",
    "\n",
    "dates_download = calculate_dates('2016-06-25', '2017-06-24')\n",
    "for i in dates_download:\n",
    "    date_ext = i.strftime(\"%y%m%d\")\n",
    "    #download(date_ext)"
   ]
  },
  {
   "cell_type": "code",
   "execution_count": 40,
   "metadata": {},
   "outputs": [
    {
     "name": "stdout",
     "output_type": "stream",
     "text": [
      "data/160625.txt\n",
      "data/160702.txt\n",
      "data/160709.txt\n",
      "data/160716.txt\n",
      "data/160723.txt\n",
      "data/160730.txt\n",
      "data/160806.txt\n",
      "data/160813.txt\n",
      "data/160820.txt\n",
      "data/160827.txt\n",
      "data/160903.txt\n",
      "data/160910.txt\n",
      "data/160917.txt\n",
      "data/160924.txt\n",
      "data/161001.txt\n",
      "data/161008.txt\n",
      "data/161015.txt\n",
      "data/161022.txt\n",
      "data/161029.txt\n",
      "data/161105.txt\n",
      "data/161112.txt\n",
      "data/161119.txt\n",
      "data/161126.txt\n",
      "data/161203.txt\n",
      "data/161210.txt\n",
      "data/161217.txt\n",
      "data/161224.txt\n",
      "data/161231.txt\n",
      "data/170107.txt\n",
      "data/170114.txt\n",
      "data/170121.txt\n",
      "data/170128.txt\n",
      "data/170204.txt\n",
      "data/170211.txt\n",
      "data/170218.txt\n",
      "data/170225.txt\n",
      "data/170304.txt\n",
      "data/170311.txt\n",
      "data/170318.txt\n",
      "data/170325.txt\n",
      "data/170401.txt\n",
      "data/170408.txt\n",
      "data/170415.txt\n",
      "data/170422.txt\n",
      "data/170429.txt\n",
      "data/170506.txt\n",
      "data/170513.txt\n",
      "data/170520.txt\n",
      "data/170527.txt\n",
      "data/170603.txt\n",
      "data/170610.txt\n",
      "data/170617.txt\n",
      "data/170624.txt\n"
     ]
    }
   ],
   "source": [
    "def calculate_total_week(date, cumulative_df):\n",
    "    \n",
    "    date_extension = date.strftime(\"%y%m%d\")\n",
    "    filename = 'data/' + date_extension + '.txt'\n",
    "    print(filename)\n",
    "    df1 = pd.read_csv(filename)\n",
    "\n",
    "    df1.columns = df1.columns.str.strip()\n",
    "    # set the stations we want\n",
    "    df = df1[(df1.STATION == 'TIMES SQ-42 ST') | (df1.STATION =='FLUSHING-MAIN' ) | (df1.STATION == 'ATL AV-BARCLAY')]\n",
    "    df = df[df.DESC != 'RECOVR AUD']\n",
    "    \n",
    "    # start of analysis for weekly counts\n",
    "    station_date = df.groupby(['C/A','UNIT','SCP','STATION','DATE'])\n",
    "    entry_date_count = station_date.ENTRIES.apply(lambda x: x.max() - x.min())\n",
    "    entry_date_count = entry_date_count.reset_index()\n",
    "\n",
    "    exit_date_count = station_date.EXITS.apply(lambda x: x.max() - x.min())\n",
    "    exit_date_count = exit_date_count.reset_index()\n",
    "\n",
    "    # group all entries by station\n",
    "    station_entry_week_count = entry_date_count.groupby('STATION').ENTRIES.agg(['sum'])\n",
    "    station_exit_week_count = exit_date_count.groupby('STATION').EXITS.agg(['sum'])\n",
    "\n",
    "    # total counts\n",
    "    station_entry_week_count['exit sum'] = station_exit_week_count['sum']\n",
    "    station_entry_week_count['total'] = station_entry_week_count['exit sum'] + station_entry_week_count['sum']\n",
    "    station_entry_week_count['year_week'] = date\n",
    "    station_entry_week_count = station_entry_week_count.reset_index()\n",
    "    \n",
    "    cumulative_df = cumulative_df.append(station_entry_week_count.iloc[:])\n",
    "    return cumulative_df\n",
    "\n",
    "\n",
    "# Run analysis\n",
    "datesList = calculate_dates('2016-06-25', '2017-06-24')\n",
    "final_week_count = pd.DataFrame()\n",
    "for d in datesList:\n",
    "    final_week_count = calculate_total_week(d, final_week_count)"
   ]
  },
  {
   "cell_type": "code",
   "execution_count": 41,
   "metadata": {
    "collapsed": true
   },
   "outputs": [],
   "source": [
    "final_week_count.to_csv(r'final_results.txt', header=True, sep=',')"
   ]
  },
  {
   "cell_type": "code",
   "execution_count": 42,
   "metadata": {},
   "outputs": [
    {
     "data": {
      "text/plain": [
       "<matplotlib.legend.Legend at 0x1143b5390>"
      ]
     },
     "execution_count": 42,
     "metadata": {},
     "output_type": "execute_result"
    },
    {
     "data": {
      "image/png": "[encoded data removed]",
      "text/plain": [
       "<matplotlib.figure.Figure at 0x117deeda0>"
      ]
     },
     "metadata": {},
     "output_type": "display_data"
    }
   ],
   "source": [
    "bp = final_week_count.groupby('STATION')\n",
    "total = final_week_count['total']\n",
    "\n",
    "atl_station = final_week_count[final_week_count.STATION == 'ATL AV-BARCLAY']\n",
    "flushing_station = final_week_count[final_week_count.STATION == 'FLUSHING-MAIN']\n",
    "times_station = final_week_count[final_week_count.STATION == 'TIMES SQ-42 ST']\n",
    "\n",
    "\n",
    "#plt.ylim(ymax=np.percentile(final_week_count.total))\n",
    "#final_outout = final_week_count.groupby('STATION')\n",
    "plt.plot(atl_station.year_week, atl_station.total, label='ATL AV-BARCLAY')\n",
    "plt.plot(flushing_station.year_week, flushing_station.total, label='FLUSHING-MAIN')\n",
    "plt.plot(times_station.year_week, times_station.total, label='TIMES SQ-42 ST')\n",
    "plt.xlabel('Date')\n",
    "plt.ylabel('Entries and Exits')\n",
    "plt.legend(loc='upper left')\n",
    "#np.percentile(final_week_count.total, 99)\n"
   ]
  },
  {
   "cell_type": "code",
   "execution_count": 43,
   "metadata": {},
   "outputs": [
    {
     "data": {
      "text/plain": [
       "91667212.519999772"
      ]
     },
     "execution_count": 43,
     "metadata": {},
     "output_type": "execute_result"
    }
   ],
   "source": [
    "np.percentile(final_week_count.total, 99)"
   ]
  },
  {
   "cell_type": "code",
   "execution_count": null,
   "metadata": {
    "collapsed": true
   },
   "outputs": [],
   "source": []
  }
 ],
 "metadata": {
  "kernelspec": {
   "display_name": "Python 3",
   "language": "python",
   "name": "python3"
  },
  "language_info": {
   "codemirror_mode": {
    "name": "ipython",
    "version": 3
   },
   "file_extension": ".py",
   "mimetype": "text/x-python",
   "name": "python",
   "nbconvert_exporter": "python",
   "pygments_lexer": "ipython3",
   "version": "3.5.3"
  }
 },
 "nbformat": 4,
 "nbformat_minor": 2
}
